{
 "cells": [
  {
   "cell_type": "markdown",
   "id": "3aa28db4",
   "metadata": {},
   "source": [
    "<h2>Import Libraries</h2>"
   ]
  },
  {
   "cell_type": "code",
   "execution_count": 1,
   "id": "6cc291a5",
   "metadata": {},
   "outputs": [],
   "source": [
    "import numpy as np\n",
    "import pandas as pd\n",
    "%matplotlib inline\n",
    "import matplotlib.pyplot as plt\n",
    "from sklearn.model_selection import train_test_split\n",
    "from sklearn import datasets\n",
    "from sklearn.metrics import mean_squared_error\n",
    "from sklearn import linear_model\n",
    "from sklearn import preprocessing\n",
    "from sklearn.preprocessing import Normalizer\n",
    "from sklearn.preprocessing import StandardScaler\n",
    "from sklearn.model_selection import KFold\n",
    "from sklearn.model_selection import cross_val_score\n",
    "from numpy import mean\n",
    "from numpy import absolute\n",
    "from numpy import sqrt\n",
    "from sklearn.linear_model import LinearRegression\n",
    "from sklearn.model_selection import train_test_split\n",
    "import matplotlib.pyplot as plt\n",
    "import numpy as np\n",
    "from sklearn import datasets, linear_model, metrics\n",
    "from sklearn.metrics import mean_absolute_error\n",
    "from sklearn.metrics import mean_squared_error\n",
    "from sklearn.metrics import r2_score"
   ]
  },
  {
   "cell_type": "markdown",
   "id": "571b472c",
   "metadata": {},
   "source": [
    "<p>Creating Data Frame for the CPU Data</p>"
   ]
  },
  {
   "cell_type": "code",
   "execution_count": 2,
   "id": "90bca015",
   "metadata": {},
   "outputs": [],
   "source": [
    "cpudf = pd.read_csv(\"machine.data\", names = ['vendor name','Model Name','MYCT','MMIN','MMAX','CACH','CHMIN','CHMAX','PRP','ERP'])"
   ]
  },
  {
   "cell_type": "markdown",
   "id": "2efccd34",
   "metadata": {},
   "source": [
    "<p> Print 2 rows for sanity check to identify all the features</p>"
   ]
  },
  {
   "cell_type": "code",
   "execution_count": 3,
   "id": "6f6eaa2d",
   "metadata": {},
   "outputs": [
    {
     "data": {
      "text/html": [
       "<div>\n",
       "<style scoped>\n",
       "    .dataframe tbody tr th:only-of-type {\n",
       "        vertical-align: middle;\n",
       "    }\n",
       "\n",
       "    .dataframe tbody tr th {\n",
       "        vertical-align: top;\n",
       "    }\n",
       "\n",
       "    .dataframe thead th {\n",
       "        text-align: right;\n",
       "    }\n",
       "</style>\n",
       "<table border=\"1\" class=\"dataframe\">\n",
       "  <thead>\n",
       "    <tr style=\"text-align: right;\">\n",
       "      <th></th>\n",
       "      <th>vendor name</th>\n",
       "      <th>Model Name</th>\n",
       "      <th>MYCT</th>\n",
       "      <th>MMIN</th>\n",
       "      <th>MMAX</th>\n",
       "      <th>CACH</th>\n",
       "      <th>CHMIN</th>\n",
       "      <th>CHMAX</th>\n",
       "      <th>PRP</th>\n",
       "      <th>ERP</th>\n",
       "    </tr>\n",
       "  </thead>\n",
       "  <tbody>\n",
       "    <tr>\n",
       "      <th>0</th>\n",
       "      <td>adviser</td>\n",
       "      <td>32/60</td>\n",
       "      <td>125</td>\n",
       "      <td>256</td>\n",
       "      <td>6000</td>\n",
       "      <td>256</td>\n",
       "      <td>16</td>\n",
       "      <td>128</td>\n",
       "      <td>198</td>\n",
       "      <td>199</td>\n",
       "    </tr>\n",
       "    <tr>\n",
       "      <th>1</th>\n",
       "      <td>amdahl</td>\n",
       "      <td>470v/7</td>\n",
       "      <td>29</td>\n",
       "      <td>8000</td>\n",
       "      <td>32000</td>\n",
       "      <td>32</td>\n",
       "      <td>8</td>\n",
       "      <td>32</td>\n",
       "      <td>269</td>\n",
       "      <td>253</td>\n",
       "    </tr>\n",
       "  </tbody>\n",
       "</table>\n",
       "</div>"
      ],
      "text/plain": [
       "  vendor name Model Name  MYCT  MMIN   MMAX  CACH  CHMIN  CHMAX  PRP  ERP\n",
       "0     adviser      32/60   125   256   6000   256     16    128  198  199\n",
       "1      amdahl     470v/7    29  8000  32000    32      8     32  269  253"
      ]
     },
     "execution_count": 3,
     "metadata": {},
     "output_type": "execute_result"
    }
   ],
   "source": [
    "cpudf.head(2)"
   ]
  },
  {
   "cell_type": "code",
   "execution_count": 4,
   "id": "89937571",
   "metadata": {},
   "outputs": [
    {
     "name": "stdout",
     "output_type": "stream",
     "text": [
      "<class 'pandas.core.frame.DataFrame'>\n",
      "RangeIndex: 209 entries, 0 to 208\n",
      "Data columns (total 10 columns):\n",
      " #   Column       Non-Null Count  Dtype \n",
      "---  ------       --------------  ----- \n",
      " 0   vendor name  209 non-null    object\n",
      " 1   Model Name   209 non-null    object\n",
      " 2   MYCT         209 non-null    int64 \n",
      " 3   MMIN         209 non-null    int64 \n",
      " 4   MMAX         209 non-null    int64 \n",
      " 5   CACH         209 non-null    int64 \n",
      " 6   CHMIN        209 non-null    int64 \n",
      " 7   CHMAX        209 non-null    int64 \n",
      " 8   PRP          209 non-null    int64 \n",
      " 9   ERP          209 non-null    int64 \n",
      "dtypes: int64(8), object(2)\n",
      "memory usage: 16.5+ KB\n"
     ]
    }
   ],
   "source": [
    "cpudf.info()"
   ]
  },
  {
   "cell_type": "code",
   "execution_count": 5,
   "id": "ca3bdb38",
   "metadata": {},
   "outputs": [
    {
     "data": {
      "text/plain": [
       "vendor name    object\n",
       "Model Name     object\n",
       "MYCT            int64\n",
       "MMIN            int64\n",
       "MMAX            int64\n",
       "CACH            int64\n",
       "CHMIN           int64\n",
       "CHMAX           int64\n",
       "PRP             int64\n",
       "ERP             int64\n",
       "dtype: object"
      ]
     },
     "execution_count": 5,
     "metadata": {},
     "output_type": "execute_result"
    }
   ],
   "source": [
    "cpudf.dtypes"
   ]
  },
  {
   "cell_type": "markdown",
   "id": "83acfd38",
   "metadata": {},
   "source": [
    "<p>We can see that barring first two variables rest of them are numeric in nature. So we will be considering only the numeric fields. In next step we are going to divide the Df into categorical and numerical rows which we will use to train and test.</p>"
   ]
  },
  {
   "cell_type": "code",
   "execution_count": 6,
   "id": "0558f8a3",
   "metadata": {},
   "outputs": [
    {
     "data": {
      "text/html": [
       "<div>\n",
       "<style scoped>\n",
       "    .dataframe tbody tr th:only-of-type {\n",
       "        vertical-align: middle;\n",
       "    }\n",
       "\n",
       "    .dataframe tbody tr th {\n",
       "        vertical-align: top;\n",
       "    }\n",
       "\n",
       "    .dataframe thead th {\n",
       "        text-align: right;\n",
       "    }\n",
       "</style>\n",
       "<table border=\"1\" class=\"dataframe\">\n",
       "  <thead>\n",
       "    <tr style=\"text-align: right;\">\n",
       "      <th></th>\n",
       "      <th>MYCT</th>\n",
       "      <th>MMIN</th>\n",
       "      <th>MMAX</th>\n",
       "      <th>CACH</th>\n",
       "      <th>CHMIN</th>\n",
       "      <th>CHMAX</th>\n",
       "      <th>PRP</th>\n",
       "      <th>ERP</th>\n",
       "    </tr>\n",
       "  </thead>\n",
       "  <tbody>\n",
       "    <tr>\n",
       "      <th>0</th>\n",
       "      <td>125</td>\n",
       "      <td>256</td>\n",
       "      <td>6000</td>\n",
       "      <td>256</td>\n",
       "      <td>16</td>\n",
       "      <td>128</td>\n",
       "      <td>198</td>\n",
       "      <td>199</td>\n",
       "    </tr>\n",
       "    <tr>\n",
       "      <th>1</th>\n",
       "      <td>29</td>\n",
       "      <td>8000</td>\n",
       "      <td>32000</td>\n",
       "      <td>32</td>\n",
       "      <td>8</td>\n",
       "      <td>32</td>\n",
       "      <td>269</td>\n",
       "      <td>253</td>\n",
       "    </tr>\n",
       "    <tr>\n",
       "      <th>2</th>\n",
       "      <td>29</td>\n",
       "      <td>8000</td>\n",
       "      <td>32000</td>\n",
       "      <td>32</td>\n",
       "      <td>8</td>\n",
       "      <td>32</td>\n",
       "      <td>220</td>\n",
       "      <td>253</td>\n",
       "    </tr>\n",
       "    <tr>\n",
       "      <th>3</th>\n",
       "      <td>29</td>\n",
       "      <td>8000</td>\n",
       "      <td>32000</td>\n",
       "      <td>32</td>\n",
       "      <td>8</td>\n",
       "      <td>32</td>\n",
       "      <td>172</td>\n",
       "      <td>253</td>\n",
       "    </tr>\n",
       "    <tr>\n",
       "      <th>4</th>\n",
       "      <td>29</td>\n",
       "      <td>8000</td>\n",
       "      <td>16000</td>\n",
       "      <td>32</td>\n",
       "      <td>8</td>\n",
       "      <td>16</td>\n",
       "      <td>132</td>\n",
       "      <td>132</td>\n",
       "    </tr>\n",
       "  </tbody>\n",
       "</table>\n",
       "</div>"
      ],
      "text/plain": [
       "   MYCT  MMIN   MMAX  CACH  CHMIN  CHMAX  PRP  ERP\n",
       "0   125   256   6000   256     16    128  198  199\n",
       "1    29  8000  32000    32      8     32  269  253\n",
       "2    29  8000  32000    32      8     32  220  253\n",
       "3    29  8000  32000    32      8     32  172  253\n",
       "4    29  8000  16000    32      8     16  132  132"
      ]
     },
     "execution_count": 6,
     "metadata": {},
     "output_type": "execute_result"
    }
   ],
   "source": [
    "categorical_rows = cpudf.iloc[:,:2]\n",
    "numerical_rows= cpudf.iloc[:,2:]\n",
    "data=numerical_rows\n",
    "data.head()"
   ]
  },
  {
   "cell_type": "markdown",
   "id": "0e1c4e92",
   "metadata": {},
   "source": [
    "<p> Checking Null Values in the Dataset</p>"
   ]
  },
  {
   "cell_type": "code",
   "execution_count": 7,
   "id": "e870f67a",
   "metadata": {},
   "outputs": [
    {
     "data": {
      "text/plain": [
       "MYCT     0\n",
       "MMIN     0\n",
       "MMAX     0\n",
       "CACH     0\n",
       "CHMIN    0\n",
       "CHMAX    0\n",
       "PRP      0\n",
       "ERP      0\n",
       "dtype: int64"
      ]
     },
     "execution_count": 7,
     "metadata": {},
     "output_type": "execute_result"
    }
   ],
   "source": [
    "numerical_rows.isna().sum()"
   ]
  },
  {
   "cell_type": "markdown",
   "id": "d654170a",
   "metadata": {},
   "source": [
    "<p> For handling null value need to check correlation before loosing important data\n",
    "To Check correlation all data should be nominal converting categorical to numerical and showing relation</p>"
   ]
  },
  {
   "cell_type": "code",
   "execution_count": 8,
   "id": "9d0fc079",
   "metadata": {},
   "outputs": [
    {
     "data": {
      "text/html": [
       "<div>\n",
       "<style scoped>\n",
       "    .dataframe tbody tr th:only-of-type {\n",
       "        vertical-align: middle;\n",
       "    }\n",
       "\n",
       "    .dataframe tbody tr th {\n",
       "        vertical-align: top;\n",
       "    }\n",
       "\n",
       "    .dataframe thead th {\n",
       "        text-align: right;\n",
       "    }\n",
       "</style>\n",
       "<table border=\"1\" class=\"dataframe\">\n",
       "  <thead>\n",
       "    <tr style=\"text-align: right;\">\n",
       "      <th></th>\n",
       "      <th>MYCT</th>\n",
       "      <th>MMIN</th>\n",
       "      <th>MMAX</th>\n",
       "      <th>CACH</th>\n",
       "      <th>CHMIN</th>\n",
       "      <th>CHMAX</th>\n",
       "      <th>PRP</th>\n",
       "      <th>ERP</th>\n",
       "    </tr>\n",
       "  </thead>\n",
       "  <tbody>\n",
       "    <tr>\n",
       "      <th>MYCT</th>\n",
       "      <td>1.000000</td>\n",
       "      <td>-0.335642</td>\n",
       "      <td>-0.378561</td>\n",
       "      <td>-0.321000</td>\n",
       "      <td>-0.301090</td>\n",
       "      <td>-0.250502</td>\n",
       "      <td>-0.307099</td>\n",
       "      <td>-0.288396</td>\n",
       "    </tr>\n",
       "    <tr>\n",
       "      <th>MMIN</th>\n",
       "      <td>-0.335642</td>\n",
       "      <td>1.000000</td>\n",
       "      <td>0.758157</td>\n",
       "      <td>0.534729</td>\n",
       "      <td>0.517189</td>\n",
       "      <td>0.266907</td>\n",
       "      <td>0.794931</td>\n",
       "      <td>0.819292</td>\n",
       "    </tr>\n",
       "    <tr>\n",
       "      <th>MMAX</th>\n",
       "      <td>-0.378561</td>\n",
       "      <td>0.758157</td>\n",
       "      <td>1.000000</td>\n",
       "      <td>0.537990</td>\n",
       "      <td>0.560513</td>\n",
       "      <td>0.527246</td>\n",
       "      <td>0.863004</td>\n",
       "      <td>0.901202</td>\n",
       "    </tr>\n",
       "    <tr>\n",
       "      <th>CACH</th>\n",
       "      <td>-0.321000</td>\n",
       "      <td>0.534729</td>\n",
       "      <td>0.537990</td>\n",
       "      <td>1.000000</td>\n",
       "      <td>0.582245</td>\n",
       "      <td>0.487846</td>\n",
       "      <td>0.662641</td>\n",
       "      <td>0.648620</td>\n",
       "    </tr>\n",
       "    <tr>\n",
       "      <th>CHMIN</th>\n",
       "      <td>-0.301090</td>\n",
       "      <td>0.517189</td>\n",
       "      <td>0.560513</td>\n",
       "      <td>0.582245</td>\n",
       "      <td>1.000000</td>\n",
       "      <td>0.548281</td>\n",
       "      <td>0.608903</td>\n",
       "      <td>0.610580</td>\n",
       "    </tr>\n",
       "    <tr>\n",
       "      <th>CHMAX</th>\n",
       "      <td>-0.250502</td>\n",
       "      <td>0.266907</td>\n",
       "      <td>0.527246</td>\n",
       "      <td>0.487846</td>\n",
       "      <td>0.548281</td>\n",
       "      <td>1.000000</td>\n",
       "      <td>0.605209</td>\n",
       "      <td>0.592156</td>\n",
       "    </tr>\n",
       "    <tr>\n",
       "      <th>PRP</th>\n",
       "      <td>-0.307099</td>\n",
       "      <td>0.794931</td>\n",
       "      <td>0.863004</td>\n",
       "      <td>0.662641</td>\n",
       "      <td>0.608903</td>\n",
       "      <td>0.605209</td>\n",
       "      <td>1.000000</td>\n",
       "      <td>0.966472</td>\n",
       "    </tr>\n",
       "    <tr>\n",
       "      <th>ERP</th>\n",
       "      <td>-0.288396</td>\n",
       "      <td>0.819292</td>\n",
       "      <td>0.901202</td>\n",
       "      <td>0.648620</td>\n",
       "      <td>0.610580</td>\n",
       "      <td>0.592156</td>\n",
       "      <td>0.966472</td>\n",
       "      <td>1.000000</td>\n",
       "    </tr>\n",
       "  </tbody>\n",
       "</table>\n",
       "</div>"
      ],
      "text/plain": [
       "           MYCT      MMIN      MMAX      CACH     CHMIN     CHMAX       PRP  \\\n",
       "MYCT   1.000000 -0.335642 -0.378561 -0.321000 -0.301090 -0.250502 -0.307099   \n",
       "MMIN  -0.335642  1.000000  0.758157  0.534729  0.517189  0.266907  0.794931   \n",
       "MMAX  -0.378561  0.758157  1.000000  0.537990  0.560513  0.527246  0.863004   \n",
       "CACH  -0.321000  0.534729  0.537990  1.000000  0.582245  0.487846  0.662641   \n",
       "CHMIN -0.301090  0.517189  0.560513  0.582245  1.000000  0.548281  0.608903   \n",
       "CHMAX -0.250502  0.266907  0.527246  0.487846  0.548281  1.000000  0.605209   \n",
       "PRP   -0.307099  0.794931  0.863004  0.662641  0.608903  0.605209  1.000000   \n",
       "ERP   -0.288396  0.819292  0.901202  0.648620  0.610580  0.592156  0.966472   \n",
       "\n",
       "            ERP  \n",
       "MYCT  -0.288396  \n",
       "MMIN   0.819292  \n",
       "MMAX   0.901202  \n",
       "CACH   0.648620  \n",
       "CHMIN  0.610580  \n",
       "CHMAX  0.592156  \n",
       "PRP    0.966472  \n",
       "ERP    1.000000  "
      ]
     },
     "execution_count": 8,
     "metadata": {},
     "output_type": "execute_result"
    }
   ],
   "source": [
    "data.corr()"
   ]
  },
  {
   "cell_type": "markdown",
   "id": "df95b9be",
   "metadata": {},
   "source": [
    "<p>Features with high correlation are more linearly dependent and hence have almost the same effect on the dependent variable. So, when two features have high correlation, we can drop one of the two features.</p>"
   ]
  },
  {
   "cell_type": "markdown",
   "id": "953ca443",
   "metadata": {},
   "source": [
    "<H2> Data Pre-processing and cleaning</h2>"
   ]
  },
  {
   "cell_type": "markdown",
   "id": "1049e398",
   "metadata": {},
   "source": [
    "<p> Checking Null Values </p>"
   ]
  },
  {
   "cell_type": "code",
   "execution_count": 9,
   "id": "e72d02f6",
   "metadata": {},
   "outputs": [
    {
     "data": {
      "text/plain": [
       "MYCT     0\n",
       "MMIN     0\n",
       "MMAX     0\n",
       "CACH     0\n",
       "CHMIN    0\n",
       "CHMAX    0\n",
       "PRP      0\n",
       "ERP      0\n",
       "dtype: int64"
      ]
     },
     "execution_count": 9,
     "metadata": {},
     "output_type": "execute_result"
    }
   ],
   "source": [
    "data.isna().sum()"
   ]
  },
  {
   "cell_type": "markdown",
   "id": "9d9dc68a",
   "metadata": {},
   "source": [
    "<p> No null Values </p>\n",
    "<p> Handling Outliers</p>"
   ]
  },
  {
   "cell_type": "code",
   "execution_count": 10,
   "id": "d3521ac4",
   "metadata": {},
   "outputs": [],
   "source": [
    "numeric_col = ['MYCT','MMIN','MMAX','CACH','CHMIN','CHMAX','PRP']"
   ]
  },
  {
   "cell_type": "code",
   "execution_count": 11,
   "id": "1dcea62f",
   "metadata": {},
   "outputs": [
    {
     "data": {
      "text/plain": [
       "<AxesSubplot:>"
      ]
     },
     "execution_count": 11,
     "metadata": {},
     "output_type": "execute_result"
    },
    {
     "data": {
      "image/png": "[encoded data removed]",
      "text/plain": [
       "<Figure size 432x288 with 1 Axes>"
      ]
     },
     "metadata": {
      "needs_background": "light"
     },
     "output_type": "display_data"
    }
   ],
   "source": [
    "data.boxplot(numeric_col)"
   ]
  },
  {
   "cell_type": "markdown",
   "id": "3b463097",
   "metadata": {},
   "source": [
    "<P> Replacong the outlier with the median</p>\n",
    "<P>in this technique, we replace the extreme values with the median value, \n",
    "you can use median or mean value but it is advised not to use the mean values\n",
    "because it is highly susceptible to outliers.\n",
    "</P>"
   ]
  },
  {
   "cell_type": "code",
   "execution_count": 20,
   "id": "3f12e0a2",
   "metadata": {},
   "outputs": [],
   "source": [
    "for x in numeric_col:\n",
    "    q75,q25 = np.percentile(data.loc[:,x],[75,25])\n",
    "    intr_qr = q75-q25\n",
    "    max = q75+(1.5*intr_qr)\n",
    "    min = q25-(1.5*intr_qr)\n",
    "    data.loc[data[x] < min,x] = data[x].median()\n",
    "    data.loc[data[x] > max,x] = data[x].median()"
   ]
  },
  {
   "cell_type": "code",
   "execution_count": 21,
   "id": "520d2c69",
   "metadata": {},
   "outputs": [
    {
     "data": {
      "text/plain": [
       "MYCT     0\n",
       "MMIN     0\n",
       "MMAX     0\n",
       "CACH     0\n",
       "CHMIN    0\n",
       "CHMAX    0\n",
       "PRP      0\n",
       "ERP      0\n",
       "dtype: int64"
      ]
     },
     "execution_count": 21,
     "metadata": {},
     "output_type": "execute_result"
    }
   ],
   "source": [
    "data.isnull().sum()"
   ]
  },
  {
   "cell_type": "code",
   "execution_count": 22,
   "id": "0bcea96b",
   "metadata": {},
   "outputs": [],
   "source": [
    "data=data.dropna()"
   ]
  },
  {
   "cell_type": "code",
   "execution_count": 23,
   "id": "a25ce5b8",
   "metadata": {},
   "outputs": [
    {
     "data": {
      "text/plain": [
       "MYCT     0\n",
       "MMIN     0\n",
       "MMAX     0\n",
       "CACH     0\n",
       "CHMIN    0\n",
       "CHMAX    0\n",
       "PRP      0\n",
       "ERP      0\n",
       "dtype: int64"
      ]
     },
     "execution_count": 23,
     "metadata": {},
     "output_type": "execute_result"
    }
   ],
   "source": [
    "data.isnull().sum()"
   ]
  },
  {
   "cell_type": "code",
   "execution_count": 24,
   "id": "67ca19b4",
   "metadata": {},
   "outputs": [
    {
     "data": {
      "text/html": [
       "<div>\n",
       "<style scoped>\n",
       "    .dataframe tbody tr th:only-of-type {\n",
       "        vertical-align: middle;\n",
       "    }\n",
       "\n",
       "    .dataframe tbody tr th {\n",
       "        vertical-align: top;\n",
       "    }\n",
       "\n",
       "    .dataframe thead th {\n",
       "        text-align: right;\n",
       "    }\n",
       "</style>\n",
       "<table border=\"1\" class=\"dataframe\">\n",
       "  <thead>\n",
       "    <tr style=\"text-align: right;\">\n",
       "      <th></th>\n",
       "      <th>MYCT</th>\n",
       "      <th>MMIN</th>\n",
       "      <th>MMAX</th>\n",
       "      <th>CACH</th>\n",
       "      <th>CHMIN</th>\n",
       "      <th>CHMAX</th>\n",
       "      <th>PRP</th>\n",
       "      <th>ERP</th>\n",
       "    </tr>\n",
       "  </thead>\n",
       "  <tbody>\n",
       "    <tr>\n",
       "      <th>0</th>\n",
       "      <td>125</td>\n",
       "      <td>256</td>\n",
       "      <td>6000</td>\n",
       "      <td>8</td>\n",
       "      <td>2</td>\n",
       "      <td>8</td>\n",
       "      <td>50</td>\n",
       "      <td>199</td>\n",
       "    </tr>\n",
       "    <tr>\n",
       "      <th>1</th>\n",
       "      <td>29</td>\n",
       "      <td>2000</td>\n",
       "      <td>32000</td>\n",
       "      <td>32</td>\n",
       "      <td>8</td>\n",
       "      <td>32</td>\n",
       "      <td>50</td>\n",
       "      <td>253</td>\n",
       "    </tr>\n",
       "    <tr>\n",
       "      <th>2</th>\n",
       "      <td>29</td>\n",
       "      <td>2000</td>\n",
       "      <td>32000</td>\n",
       "      <td>32</td>\n",
       "      <td>8</td>\n",
       "      <td>32</td>\n",
       "      <td>50</td>\n",
       "      <td>253</td>\n",
       "    </tr>\n",
       "    <tr>\n",
       "      <th>3</th>\n",
       "      <td>29</td>\n",
       "      <td>2000</td>\n",
       "      <td>32000</td>\n",
       "      <td>32</td>\n",
       "      <td>8</td>\n",
       "      <td>32</td>\n",
       "      <td>50</td>\n",
       "      <td>253</td>\n",
       "    </tr>\n",
       "    <tr>\n",
       "      <th>4</th>\n",
       "      <td>29</td>\n",
       "      <td>2000</td>\n",
       "      <td>16000</td>\n",
       "      <td>32</td>\n",
       "      <td>8</td>\n",
       "      <td>16</td>\n",
       "      <td>132</td>\n",
       "      <td>132</td>\n",
       "    </tr>\n",
       "    <tr>\n",
       "      <th>5</th>\n",
       "      <td>26</td>\n",
       "      <td>2000</td>\n",
       "      <td>32000</td>\n",
       "      <td>8</td>\n",
       "      <td>8</td>\n",
       "      <td>32</td>\n",
       "      <td>50</td>\n",
       "      <td>290</td>\n",
       "    </tr>\n",
       "    <tr>\n",
       "      <th>6</th>\n",
       "      <td>23</td>\n",
       "      <td>2000</td>\n",
       "      <td>32000</td>\n",
       "      <td>8</td>\n",
       "      <td>2</td>\n",
       "      <td>32</td>\n",
       "      <td>50</td>\n",
       "      <td>381</td>\n",
       "    </tr>\n",
       "    <tr>\n",
       "      <th>7</th>\n",
       "      <td>23</td>\n",
       "      <td>2000</td>\n",
       "      <td>32000</td>\n",
       "      <td>8</td>\n",
       "      <td>2</td>\n",
       "      <td>32</td>\n",
       "      <td>50</td>\n",
       "      <td>381</td>\n",
       "    </tr>\n",
       "    <tr>\n",
       "      <th>8</th>\n",
       "      <td>23</td>\n",
       "      <td>2000</td>\n",
       "      <td>8000</td>\n",
       "      <td>8</td>\n",
       "      <td>2</td>\n",
       "      <td>32</td>\n",
       "      <td>50</td>\n",
       "      <td>749</td>\n",
       "    </tr>\n",
       "    <tr>\n",
       "      <th>9</th>\n",
       "      <td>23</td>\n",
       "      <td>2000</td>\n",
       "      <td>8000</td>\n",
       "      <td>8</td>\n",
       "      <td>2</td>\n",
       "      <td>8</td>\n",
       "      <td>50</td>\n",
       "      <td>1238</td>\n",
       "    </tr>\n",
       "  </tbody>\n",
       "</table>\n",
       "</div>"
      ],
      "text/plain": [
       "   MYCT  MMIN   MMAX  CACH  CHMIN  CHMAX  PRP   ERP\n",
       "0   125   256   6000     8      2      8   50   199\n",
       "1    29  2000  32000    32      8     32   50   253\n",
       "2    29  2000  32000    32      8     32   50   253\n",
       "3    29  2000  32000    32      8     32   50   253\n",
       "4    29  2000  16000    32      8     16  132   132\n",
       "5    26  2000  32000     8      8     32   50   290\n",
       "6    23  2000  32000     8      2     32   50   381\n",
       "7    23  2000  32000     8      2     32   50   381\n",
       "8    23  2000   8000     8      2     32   50   749\n",
       "9    23  2000   8000     8      2      8   50  1238"
      ]
     },
     "execution_count": 24,
     "metadata": {},
     "output_type": "execute_result"
    }
   ],
   "source": [
    "data.head(10)"
   ]
  },
  {
   "cell_type": "code",
   "execution_count": 25,
   "id": "60d04571",
   "metadata": {},
   "outputs": [
    {
     "data": {
      "text/plain": [
       "<AxesSubplot:>"
      ]
     },
     "execution_count": 25,
     "metadata": {},
     "output_type": "execute_result"
    },
    {
     "data": {
      "image/png": "[encoded data removed]",
      "text/plain": [
       "<Figure size 432x288 with 1 Axes>"
      ]
     },
     "metadata": {
      "needs_background": "light"
     },
     "output_type": "display_data"
    }
   ],
   "source": [
    "data.boxplot(numeric_col)"
   ]
  },
  {
   "cell_type": "markdown",
   "id": "95426452",
   "metadata": {},
   "source": [
    "<h2>  Mean Normalization </h2>\n",
    "<p> The point of normalization is to change your observations \n",
    "so that they can be described as a normal distribution.\n",
    "Normal distribution (Gaussian distribution), also known as the bell curve, \n",
    "is a specific statistical distribution where a roughly equal observations fall above \n",
    "and below the mean. varies between -1 to 1 with mean = 0.</p>"
   ]
  },
  {
   "cell_type": "code",
   "execution_count": 26,
   "id": "9d192e60",
   "metadata": {},
   "outputs": [
    {
     "data": {
      "text/plain": [
       "array([[2.07977206e-02, 4.25937317e-02, 9.98290588e-01, ...,\n",
       "        1.33105412e-03, 8.31908823e-03, 3.31099712e-02],\n",
       "       [9.04454593e-04, 6.23761788e-02, 9.98018861e-01, ...,\n",
       "        9.98018861e-04, 1.55940447e-03, 7.89058662e-03],\n",
       "       [9.04454593e-04, 6.23761788e-02, 9.98018861e-01, ...,\n",
       "        9.98018861e-04, 1.55940447e-03, 7.89058662e-03],\n",
       "       ...,\n",
       "       [1.51562245e-02, 2.42499592e-01, 9.69998366e-01, ...,\n",
       "        1.69749714e-03, 6.30498938e-03, 4.97124163e-03],\n",
       "       [1.37198104e-02, 6.38594811e-02, 9.97804393e-01, ...,\n",
       "        0.00000000e+00, 8.35661179e-03, 5.86210081e-03],\n",
       "       [2.66673523e-02, 2.42430476e-01, 9.69721903e-01, ...,\n",
       "        0.00000000e+00, 1.09093714e-02, 6.06076189e-03]])"
      ]
     },
     "execution_count": 26,
     "metadata": {},
     "output_type": "execute_result"
    }
   ],
   "source": [
    "data=preprocessing.normalize(data);\n",
    "data"
   ]
  },
  {
   "cell_type": "code",
   "execution_count": 27,
   "id": "d720554d",
   "metadata": {},
   "outputs": [
    {
     "data": {
      "text/html": [
       "<div>\n",
       "<style scoped>\n",
       "    .dataframe tbody tr th:only-of-type {\n",
       "        vertical-align: middle;\n",
       "    }\n",
       "\n",
       "    .dataframe tbody tr th {\n",
       "        vertical-align: top;\n",
       "    }\n",
       "\n",
       "    .dataframe thead th {\n",
       "        text-align: right;\n",
       "    }\n",
       "</style>\n",
       "<table border=\"1\" class=\"dataframe\">\n",
       "  <thead>\n",
       "    <tr style=\"text-align: right;\">\n",
       "      <th></th>\n",
       "      <th>MYCT</th>\n",
       "      <th>MMIN</th>\n",
       "      <th>MMAX</th>\n",
       "      <th>CACH</th>\n",
       "      <th>CHMIN</th>\n",
       "      <th>CHMAX</th>\n",
       "      <th>PRP</th>\n",
       "      <th>ERP</th>\n",
       "    </tr>\n",
       "  </thead>\n",
       "  <tbody>\n",
       "    <tr>\n",
       "      <th>0</th>\n",
       "      <td>0.020798</td>\n",
       "      <td>0.042594</td>\n",
       "      <td>0.998291</td>\n",
       "      <td>0.001331</td>\n",
       "      <td>0.000333</td>\n",
       "      <td>0.001331</td>\n",
       "      <td>0.008319</td>\n",
       "      <td>0.033110</td>\n",
       "    </tr>\n",
       "    <tr>\n",
       "      <th>1</th>\n",
       "      <td>0.000904</td>\n",
       "      <td>0.062376</td>\n",
       "      <td>0.998019</td>\n",
       "      <td>0.000998</td>\n",
       "      <td>0.000250</td>\n",
       "      <td>0.000998</td>\n",
       "      <td>0.001559</td>\n",
       "      <td>0.007891</td>\n",
       "    </tr>\n",
       "    <tr>\n",
       "      <th>2</th>\n",
       "      <td>0.000904</td>\n",
       "      <td>0.062376</td>\n",
       "      <td>0.998019</td>\n",
       "      <td>0.000998</td>\n",
       "      <td>0.000250</td>\n",
       "      <td>0.000998</td>\n",
       "      <td>0.001559</td>\n",
       "      <td>0.007891</td>\n",
       "    </tr>\n",
       "    <tr>\n",
       "      <th>3</th>\n",
       "      <td>0.000904</td>\n",
       "      <td>0.062376</td>\n",
       "      <td>0.998019</td>\n",
       "      <td>0.000998</td>\n",
       "      <td>0.000250</td>\n",
       "      <td>0.000998</td>\n",
       "      <td>0.001559</td>\n",
       "      <td>0.007891</td>\n",
       "    </tr>\n",
       "    <tr>\n",
       "      <th>4</th>\n",
       "      <td>0.001798</td>\n",
       "      <td>0.124026</td>\n",
       "      <td>0.992207</td>\n",
       "      <td>0.001984</td>\n",
       "      <td>0.000496</td>\n",
       "      <td>0.000992</td>\n",
       "      <td>0.008186</td>\n",
       "      <td>0.008186</td>\n",
       "    </tr>\n",
       "  </tbody>\n",
       "</table>\n",
       "</div>"
      ],
      "text/plain": [
       "       MYCT      MMIN      MMAX      CACH     CHMIN     CHMAX       PRP  \\\n",
       "0  0.020798  0.042594  0.998291  0.001331  0.000333  0.001331  0.008319   \n",
       "1  0.000904  0.062376  0.998019  0.000998  0.000250  0.000998  0.001559   \n",
       "2  0.000904  0.062376  0.998019  0.000998  0.000250  0.000998  0.001559   \n",
       "3  0.000904  0.062376  0.998019  0.000998  0.000250  0.000998  0.001559   \n",
       "4  0.001798  0.124026  0.992207  0.001984  0.000496  0.000992  0.008186   \n",
       "\n",
       "        ERP  \n",
       "0  0.033110  \n",
       "1  0.007891  \n",
       "2  0.007891  \n",
       "3  0.007891  \n",
       "4  0.008186  "
      ]
     },
     "execution_count": 27,
     "metadata": {},
     "output_type": "execute_result"
    }
   ],
   "source": [
    "df = pd.DataFrame(data, \n",
    "             columns=['MYCT','MMIN','MMAX','CACH','CHMIN','CHMAX','PRP','ERP'])\n",
    "df.head()"
   ]
  },
  {
   "cell_type": "markdown",
   "id": "cdd354c1",
   "metadata": {},
   "source": [
    "<h2>Select the predictor and target variables</h2>"
   ]
  },
  {
   "cell_type": "code",
   "execution_count": 28,
   "id": "979054db",
   "metadata": {},
   "outputs": [],
   "source": [
    "X = numerical_rows.iloc[:,:-1]\n",
    "y = numerical_rows.iloc[:,-1]"
   ]
  },
  {
   "cell_type": "markdown",
   "id": "bb0d7ab5",
   "metadata": {},
   "source": [
    "<h2>Train test split</h2>"
   ]
  },
  {
   "cell_type": "markdown",
   "id": "35934aee",
   "metadata": {},
   "source": [
    "<p>Case 1 : Train = 80 % Test = 20% [ x_train1,y_train1] = 80% ;\n",
    "[ x_test1,y_test1] = 20% ;</p>"
   ]
  },
  {
   "cell_type": "code",
   "execution_count": 29,
   "id": "a1be80fc",
   "metadata": {},
   "outputs": [],
   "source": [
    "x_training_set, x_test_set, y_training_set, y_test_set = train_test_split(X,y,test_size=.20,\n",
    "random_state=42,\n",
    "shuffle=True)"
   ]
  },
  {
   "cell_type": "code",
   "execution_count": 30,
   "id": "2eb6e830",
   "metadata": {},
   "outputs": [],
   "source": [
    "y_training_set = y_training_set.values.reshape(-1, 1)\n",
    "y_test_set  = y_test_set.values.reshape(-1, 1)\n",
    "y_scaler = StandardScaler()\n",
    "# Fit on training set only.\n",
    "y_scaler.fit(y_training_set)\n",
    "# Apply transform to both the training set and the test set.\n",
    "y_training_set = y_scaler.transform(y_training_set)\n",
    "y_test_set = y_scaler.transform(y_test_set)"
   ]
  },
  {
   "cell_type": "markdown",
   "id": "e5c18dae",
   "metadata": {},
   "source": [
    "<p>Case 2 : Train = 10 % Test = 90% [ x_train2,y_train2] = 10% ;\n",
    "[ x_test2,y_test2] = 90%</p>"
   ]
  },
  {
   "cell_type": "code",
   "execution_count": 68,
   "id": "ca3daa80",
   "metadata": {},
   "outputs": [],
   "source": [
    "x_training_set1, x_test_set1, y_training_set1, y_test_set1 = train_test_split(X,y,test_size=.90,\n",
    "random_state=42,\n",
    "shuffle=True)"
   ]
  },
  {
   "cell_type": "code",
   "execution_count": 69,
   "id": "e62ad13f",
   "metadata": {},
   "outputs": [],
   "source": [
    "y_training_set1 = y_training_set1.values.reshape(-1, 1)\n",
    "y_test_set1  = y_test_set1.values.reshape(-1, 1)\n",
    "y_scaler1 = StandardScaler()\n",
    "# Fit on training set only.\n",
    "y_scaler1.fit(y_training_set)\n",
    "# Apply transform to both the training set and the test set.\n",
    "y_training_set1 = y_scaler1.transform(y_training_set1)\n",
    "y_test_set1 = y_scaler1.transform(y_test_set1)"
   ]
  },
  {
   "cell_type": "markdown",
   "id": "49bb5bad",
   "metadata": {},
   "source": [
    "<h2> K-fold Cross Validation</h2>"
   ]
  },
  {
   "cell_type": "markdown",
   "id": "bf68c7dc",
   "metadata": {},
   "source": [
    "<p>To evaluate the performance of some model on a dataset, \n",
    "we need to measure how well the predictions made by the model match the observed data.\n",
    "The most common way to measure this is by using the mean squared error (MSE), which is calculated as:\n",
    "\n",
    "MSE = (1/n)*Σ(yi – f(xi))2\n",
    "\n",
    "In practice, we use the following process to calculate the MSE of a given model:\n",
    "\n",
    "1. Split a dataset into a training set and a testing set.\n",
    "\n",
    "2. Build the model using only data from the training set.\n",
    "\n",
    "3. Use the model to make predictions on the testing set and measure the test MSE.\n",
    "</p>\n",
    "\n",
    "<H2> K-fold cross-validation </H2> <p>uses the following approach to evaluate a model:\n",
    "\n",
    "Step 1: Randomly divide a dataset into k groups, or “folds”, of roughly equal size.\n",
    "\n",
    "Splitting a dataset into k folds\n",
    "\n",
    "Step 2: Choose one of the folds to be the holdout set. Fit the model on the remaining k-1 folds. Calculate the test MSE on the observations in the fold that was held out.\n",
    "\n",
    "k-fold cross-validation\n",
    "\n",
    "Step 3: Repeat this process k times, using a different set each time as the holdout set.\n",
    "\n",
    "Example of k-fold cross-validation\n",
    "\n",
    "Step 4: Calculate the overall test MSE to be the average of the k test MSE’s.\n",
    "\n",
    "Test MSE = (1/k)*ΣMSEi\n",
    "\n",
    "where:\n",
    "\n",
    "k: Number of folds\n",
    "MSEi: Test MSE on the ith iteration\n",
    "    </p>"
   ]
  },
  {
   "cell_type": "code",
   "execution_count": 70,
   "id": "20d8b7eb",
   "metadata": {},
   "outputs": [
    {
     "data": {
      "text/plain": [
       "59.635337434949044"
      ]
     },
     "execution_count": 70,
     "metadata": {},
     "output_type": "execute_result"
    }
   ],
   "source": [
    "#define cross-validation method to use\n",
    "cv = KFold(n_splits=10, random_state=1, shuffle=True)\n",
    "\n",
    "#build multiple linear regression model\n",
    "model2 = linear_model.LinearRegression()\n",
    "\n",
    "#use k-fold CV to evaluate model\n",
    "scores = cross_val_score(model2, X, y, scoring='neg_mean_absolute_error',\n",
    "                         cv=cv, n_jobs=-1)\n",
    "\n",
    "#view mean absolute error\n",
    "mean(absolute(scores))"
   ]
  },
  {
   "cell_type": "code",
   "execution_count": 71,
   "id": "1363ae36",
   "metadata": {},
   "outputs": [
    {
     "data": {
      "text/plain": [
       "134.72184546774642"
      ]
     },
     "execution_count": 71,
     "metadata": {},
     "output_type": "execute_result"
    }
   ],
   "source": [
    "cv = KFold(n_splits=5, random_state=1, shuffle=True) \n",
    "\n",
    "#build multiple linear regression model\n",
    "model2 = linear_model.LinearRegression()\n",
    "\n",
    "#use LOOCV to evaluate model\n",
    "scores = cross_val_score(model2, X, y, scoring='neg_mean_squared_error',\n",
    "                         cv=cv, n_jobs=-1)\n",
    "\n",
    "#view RMSE\n",
    "sqrt(mean(absolute(scores)))"
   ]
  },
  {
   "cell_type": "markdown",
   "id": "23984c95",
   "metadata": {},
   "source": [
    "<h2>Training / model fitting :</h2>"
   ]
  },
  {
   "cell_type": "markdown",
   "id": "42021430",
   "metadata": {},
   "source": [
    "<h3>Case1</h3>"
   ]
  },
  {
   "cell_type": "code",
   "execution_count": 72,
   "id": "d0f5cf26",
   "metadata": {},
   "outputs": [
    {
     "data": {
      "text/plain": [
       "LinearRegression()"
      ]
     },
     "execution_count": 72,
     "metadata": {},
     "output_type": "execute_result"
    }
   ],
   "source": [
    "model = linear_model.LinearRegression()\n",
    "model.fit(x_training_set,y_training_set)"
   ]
  },
  {
   "cell_type": "code",
   "execution_count": 73,
   "id": "40fa0e85",
   "metadata": {},
   "outputs": [
    {
     "name": "stdout",
     "output_type": "stream",
     "text": [
      "Coefficients:  [[-6.92664069e-04  9.45483482e-05  4.79901084e-05  4.51007003e-03\n",
      "   1.15472147e-02  1.17283409e-02 -3.94998370e-03]]\n",
      "Variance score: 0.44955853991183115\n"
     ]
    },
    {
     "data": {
      "image/png": "[encoded data removed]",
      "text/plain": [
       "<Figure size 432x288 with 1 Axes>"
      ]
     },
     "metadata": {},
     "output_type": "display_data"
    }
   ],
   "source": [
    "  # regression coefficients\n",
    "print('Coefficients: ', model.coef_)\n",
    "  \n",
    "# variance score: 1 means perfect prediction\n",
    "print('Variance score: {}'.format(model.score(x_training_set, y_training_set)))\n",
    "  \n",
    "# plot for residual error\n",
    "  \n",
    "## setting plot style\n",
    "plt.style.use('fivethirtyeight')\n",
    "## plotting residual errors in training data\n",
    "plt.scatter(model.predict(x_training_set), model.predict(x_training_set) - y_training_set,\n",
    "            color = \"green\", s = 10, label = 'Train data')\n",
    "  \n",
    "## plotting residual errors in test data\n",
    "plt.scatter(model.predict(x_test_set), model.predict(x_test_set) - y_test_set,\n",
    "            color = \"blue\", s = 10, label = 'Test data')\n",
    "  \n",
    "## plotting line for zero residual error\n",
    "plt.hlines(y = 0, xmin = 0, xmax = 50, linewidth = 2)\n",
    "  \n",
    "## plotting legend\n",
    "plt.legend(loc = 'upper right')\n",
    "  \n",
    "## plot title\n",
    "plt.title(\"Residual errors\")\n",
    "  \n",
    "## method call for showing the plot\n",
    "plt.show()"
   ]
  },
  {
   "cell_type": "code",
   "execution_count": 74,
   "id": "76608dfb",
   "metadata": {},
   "outputs": [
    {
     "name": "stdout",
     "output_type": "stream",
     "text": [
      "0.44955853991183115\n",
      "Mean squared error: 2.96\n",
      "Test Variance score: 0.12\n"
     ]
    }
   ],
   "source": [
    "from sklearn.metrics import mean_squared_error, r2_score\n",
    "model_score = model.score(x_training_set,y_training_set)\n",
    "# Have a look at R sq to give an idea of the fit ,\n",
    "# Explained variance score: 1 is perfect prediction\n",
    "print(model_score)\n",
    "y_predicted = model.predict(x_test_set)\n",
    "# The mean squared error\n",
    "print(\"Mean squared error: %.2f\"% mean_squared_error(y_test_set, y_predicted))\n",
    "# Explained variance score: 1 is perfect prediction\n",
    "print('Test Variance score: %.2f' % r2_score(y_test_set, y_predicted))"
   ]
  },
  {
   "cell_type": "code",
   "execution_count": 75,
   "id": "46bac9a9",
   "metadata": {},
   "outputs": [
    {
     "data": {
      "image/png": "[encoded data removed]",
      "text/plain": [
       "<Figure size 432x288 with 1 Axes>"
      ]
     },
     "metadata": {},
     "output_type": "display_data"
    }
   ],
   "source": [
    "# So let's run the model against the test data\n",
    "from sklearn.model_selection import cross_val_predict\n",
    "fig, ax = plt.subplots()\n",
    "ax.scatter(y_test_set, y_predicted, edgecolors=(0, 0, 0))\n",
    "\n",
    "ax.plot([y_test_set.min(), y_test_set.max()], [y_test_set.min(), y_test_set.max()], 'k--', lw=4)\n",
    "\n",
    "ax.set_xlabel('Actual')\n",
    "\n",
    "ax.set_ylabel('Predicted')\n",
    "\n",
    "ax.set_title(\"Ground Truth vs Predicted\")\n",
    "\n",
    "plt.show()"
   ]
  },
  {
   "cell_type": "markdown",
   "id": "f80c6a26",
   "metadata": {},
   "source": [
    "<H3> Case 2 </H3>"
   ]
  },
  {
   "cell_type": "code",
   "execution_count": 77,
   "id": "f328fdda",
   "metadata": {},
   "outputs": [],
   "source": [
    "model1 = linear_model.LinearRegression()"
   ]
  },
  {
   "cell_type": "code",
   "execution_count": 79,
   "id": "0f0c59ae",
   "metadata": {},
   "outputs": [
    {
     "data": {
      "text/plain": [
       "LinearRegression()"
      ]
     },
     "execution_count": 79,
     "metadata": {},
     "output_type": "execute_result"
    }
   ],
   "source": [
    "model1.fit(x_training_set1,y_training_set1)\n"
   ]
  },
  {
   "cell_type": "code",
   "execution_count": 80,
   "id": "50bab8a7",
   "metadata": {},
   "outputs": [
    {
     "name": "stdout",
     "output_type": "stream",
     "text": [
      "Coefficients:  [[ 0.00436624  0.00467407  0.00541505  0.83740244  2.4424133  -0.09728802\n",
      "  -0.32113171]]\n",
      "Variance score: 0.986945971523656\n"
     ]
    },
    {
     "data": {
      "image/png": "[encoded data removed]",
      "text/plain": [
       "<Figure size 432x288 with 1 Axes>"
      ]
     },
     "metadata": {},
     "output_type": "display_data"
    }
   ],
   "source": [
    "  # regression coefficients\n",
    "print('Coefficients: ', model1.coef_)\n",
    "  \n",
    "# variance score: 1 means perfect prediction\n",
    "print('Variance score: {}'.format(model1.score(x_training_set1, y_training_set1)))\n",
    "  \n",
    "# plot for residual error\n",
    "  \n",
    "## setting plot style\n",
    "plt.style.use('fivethirtyeight')\n",
    "## plotting residual errors in training data\n",
    "plt.scatter(model1.predict(x_training_set1), model1.predict(x_training_set1) - y_training_set1,\n",
    "            color = \"green\", s = 10, label = 'Train data')\n",
    "  \n",
    "## plotting residual errors in test data\n",
    "plt.scatter(model1.predict(x_test_set1), model1.predict(x_test_set1) - y_test_set1,\n",
    "            color = \"blue\", s = 10, label = 'Test data')\n",
    "  \n",
    "## plotting line for zero residual error\n",
    "plt.hlines(y = 0, xmin = 0, xmax = 50, linewidth = 2)\n",
    "  \n",
    "## plotting legend\n",
    "plt.legend(loc = 'upper right')\n",
    "  \n",
    "## plot title\n",
    "plt.title(\"Residual errors\")\n",
    "  \n",
    "## method call for showing the plot\n",
    "plt.show()"
   ]
  },
  {
   "cell_type": "code",
   "execution_count": 82,
   "id": "f714dbdb",
   "metadata": {},
   "outputs": [
    {
     "name": "stdout",
     "output_type": "stream",
     "text": [
      "0.986945971523656\n",
      "Mean squared error: 20177.06\n",
      "Test Variance score: 0.22\n"
     ]
    }
   ],
   "source": [
    "from sklearn.metrics import mean_squared_error, r2_score\n",
    "model_score = model1.score(x_training_set1,y_training_set1)\n",
    "# Have a look at R sq to give an idea of the fit ,\n",
    "# Explained variance score: 1 is perfect prediction\n",
    "print(model_score)\n",
    "y_predicted1 = model1.predict(x_test_set1)\n",
    "# The mean squared error\n",
    "print(\"Mean squared error: %.2f\"% mean_squared_error(y_test_set1, y_predicted1))\n",
    "# Explained variance score: 1 is perfect prediction\n",
    "print('Test Variance score: %.2f' % r2_score(y_test_set1, y_predicted1))"
   ]
  },
  {
   "cell_type": "code",
   "execution_count": 83,
   "id": "277247f3",
   "metadata": {},
   "outputs": [
    {
     "data": {
      "image/png": "[encoded data removed]",
      "text/plain": [
       "<Figure size 432x288 with 1 Axes>"
      ]
     },
     "metadata": {},
     "output_type": "display_data"
    }
   ],
   "source": [
    "# So let's run the model against the test data\n",
    "from sklearn.model_selection import cross_val_predict\n",
    "fig, ax = plt.subplots()\n",
    "ax.scatter(y_test_set1, y_predicted1, edgecolors=(0, 0, 0))\n",
    "\n",
    "ax.plot([y_test_set1.min(), y_test_set1.max()], [y_test_set1.min(), y_test_set1.max()], 'k--', lw=4)\n",
    "\n",
    "ax.set_xlabel('Actual')\n",
    "\n",
    "ax.set_ylabel('Predicted')\n",
    "\n",
    "ax.set_title(\"Ground Truth vs Predicted\")\n",
    "\n",
    "plt.show()"
   ]
  },
  {
   "cell_type": "markdown",
   "id": "c43357f9",
   "metadata": {},
   "source": [
    "<h2>Evaluation Matrics</h2>"
   ]
  },
  {
   "cell_type": "markdown",
   "id": "5d8b0e92",
   "metadata": {},
   "source": [
    "<h3> case 1</h3>"
   ]
  },
  {
   "cell_type": "code",
   "execution_count": 84,
   "id": "bd44ec43",
   "metadata": {},
   "outputs": [
    {
     "name": "stdout",
     "output_type": "stream",
     "text": [
      "MAE 0.6016006258995328\n",
      "MSE 2.961120079460627\n",
      "RMSE 1.7207905391013245\n",
      "RMSE 0.5427838009909768\n",
      "r2 score 0.11542030688012428\n",
      "adjusted r2 score 0.06760518833310392\n"
     ]
    }
   ],
   "source": [
    "print(\"MAE\",mean_absolute_error(y_test_set,y_predicted))\n",
    "print(\"MSE\",mean_squared_error(y_test_set,y_predicted))\n",
    "print(\"RMSE\",np.sqrt(mean_squared_error(y_test_set,y_predicted)))\n",
    "print(\"RMSE\",np.log(np.sqrt(mean_squared_error(y_test_set,y_predicted))))\n",
    "r2 = r2_score(y_test_set,y_predicted)\n",
    "print(\"r2 score\",r2)\n",
    "n=40\n",
    "k=2\n",
    "adj_r2_score = 1 - ((1-r2)*(n-1)/(n-k-1))\n",
    "print(\"adjusted r2 score\",adj_r2_score)"
   ]
  },
  {
   "cell_type": "markdown",
   "id": "760eb743",
   "metadata": {},
   "source": [
    "<h3>case2</h3>"
   ]
  },
  {
   "cell_type": "code",
   "execution_count": 85,
   "id": "1d5d9fb1",
   "metadata": {},
   "outputs": [
    {
     "name": "stdout",
     "output_type": "stream",
     "text": [
      "MAE 41.187940246590536\n",
      "MSE 20177.057959156526\n",
      "RMSE 142.04597128801834\n",
      "RMSE 4.956150746673218\n",
      "r2 score 0.21588560377895405\n",
      "adjusted r2 score 0.17350104182105963\n"
     ]
    }
   ],
   "source": [
    "print(\"MAE\",mean_absolute_error(y_test_set1,y_predicted1))\n",
    "print(\"MSE\",mean_squared_error(y_test_set1,y_predicted1))\n",
    "print(\"RMSE\",np.sqrt(mean_squared_error(y_test_set1,y_predicted1)))\n",
    "print(\"RMSE\",np.log(np.sqrt(mean_squared_error(y_test_set1,y_predicted1))))\n",
    "r2 = r2_score(y_test_set1,y_predicted1)\n",
    "print(\"r2 score\",r2)\n",
    "n=40\n",
    "k=2\n",
    "adj_r2_score = 1 - ((1-r2)*(n-1)/(n-k-1))\n",
    "print(\"adjusted r2 score\",adj_r2_score)"
   ]
  },
  {
   "cell_type": "markdown",
   "id": "01eef29a",
   "metadata": {},
   "source": [
    "<p> For our model Best is Mean Absolute Error(MAE) </p>"
   ]
  },
  {
   "cell_type": "markdown",
   "id": "66cb3f10",
   "metadata": {},
   "source": [
    "<p> MAE is a very simple metric which calculates the absolute difference between actual and predicted values.\n",
    "\n",
    "To better understand, let’s take an example you have input data and output data and use Linear Regression, which draws a best-fit line.\n",
    "\n",
    "Now you have to find the MAE of your model which is basically a mistake made by the model known as an error. Now find the difference between the actual value and predicted value that is an absolute error but we have to find the mean absolute of the complete dataset.\n",
    "\n",
    "so, sum all the errors and divide them by a total number of observations And this is MAE. And we aim to get a minimum MAE because this is a loss.\n",
    "\n",
    "</p>"
   ]
  },
  {
   "cell_type": "markdown",
   "id": "aaaec65e",
   "metadata": {},
   "source": [
    "<h2>conclusion</h2>"
   ]
  },
  {
   "cell_type": "markdown",
   "id": "25627535",
   "metadata": {},
   "source": [
    "<p>Our model is emitting the both over and under  , \n",
    "this is due to not removing the Outlier data as dataset was very less and replcing then with the median. Also due to the training and test % provided in both cases. it would have been perfect in case the data we provide in 70-30 ratio \n",
    "     The Test Variance score in both case is aroun 90%.\n",
    "     Model score with 0.44955853991183115 with 80% training and 20 %test set\n",
    "     Model score cause overfitting when we pass 10% training and 90% test data 0.986945971523656.\n",
    "    \n",
    "\n",
    "Overfitting happens when a model learns the detail and noise in the training data to the extent that it negatively \n",
    "impacts the performance of the model on new data. \n",
    "Overfitting is more likely with nonparametric and nonlinear models that have more flexibility when learning a target function. \n",
    "As such, many nonparametric machine learning algorithms also include parameters or techniques to limit and constrain \n",
    "how much detail the model learns.\n",
    "    \n",
    "Underfitting occurs when our machine learning model is not able to capture the underlying trend of the data. To avoid the overfitting in the model, the fed of training data can be stopped at an early stage, due to which the model may not learn enough from the training data. As a result, it may fail to find the best fit of the dominant trend in the data.\n",
    "</p>"
   ]
  }
 ],
 "metadata": {
  "kernelspec": {
   "display_name": "Python 3",
   "language": "python",
   "name": "python3"
  },
  "language_info": {
   "codemirror_mode": {
    "name": "ipython",
    "version": 3
   },
   "file_extension": ".py",
   "mimetype": "text/x-python",
   "name": "python",
   "nbconvert_exporter": "python",
   "pygments_lexer": "ipython3",
   "version": "3.8.8"
  }
 },
 "nbformat": 4,
 "nbformat_minor": 5
}
